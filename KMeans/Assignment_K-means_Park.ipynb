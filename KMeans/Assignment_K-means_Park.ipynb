{
 "cells": [
  {
   "cell_type": "markdown",
   "id": "8aa89edd-31e4-41e9-acfd-0db687f9994c",
   "metadata": {},
   "source": [
    "# __Code Description__\n",
    "\n",
    "1. Data Exploration<br>\n",
    "      * Handle duplicates, empty values and outlier by removing rows<br>\n",
    "      * Remove columns(attributes) that is not related with result('id')<br>\n",
    "      * Normalize using StandardScaler [__Question 1__] and ai'= (ai - min(a))/(max(a)-min(a)) [__Question 2__]\n",
    "      * Split the dataset into training data and test data (80/20)\n",
    "        \n",
    "2. Elbow Method<br>\n",
    "      * Calculate Sum Square Error for each k values<br>\n",
    "      * Plot [k vs Sum Square Error]<br>\n",
    "      * Pick the best k\n",
    "    \n",
    "3. Train the K_mean classifier using training data<br>\n",
    "      * [__Question 1__] : Built-in libarary (from sklearn)\n",
    "      * [__Question 2__] : K-means algorithm from scratch\n",
    "      \n",
    "4. Predict the test data and calculate accuracy"
   ]
  },
  {
   "cell_type": "markdown",
   "id": "f7fefc2b-976d-4a10-a912-3981f7d7e452",
   "metadata": {
    "tags": []
   },
   "source": [
    "#### Import libararies"
   ]
  },
  {
   "cell_type": "code",
   "execution_count": 130,
   "id": "ed1ba1f1-22e2-4fc0-b004-c2a66bd7580a",
   "metadata": {},
   "outputs": [],
   "source": [
    "import matplotlib.pyplot as plt\n",
    "import pandas as pd\n",
    "import numpy as np\n",
    "import scipy.stats as st\n",
    "import sklearn\n",
    "from sklearn.preprocessing import StandardScaler\n",
    "from sklearn.model_selection import train_test_split\n",
    "from sklearn.cluster import KMeans\n",
    "from sklearn.metrics import silhouette_score"
   ]
  },
  {
   "cell_type": "markdown",
   "id": "99aa35c2-f92e-4166-8065-5cdea47b3fae",
   "metadata": {},
   "source": [
    "#### Iris data"
   ]
  },
  {
   "cell_type": "code",
   "execution_count": 157,
   "id": "4e3de803-febd-464d-9780-437df9abfacc",
   "metadata": {},
   "outputs": [
    {
     "name": "stdout",
     "output_type": "stream",
     "text": [
      "      Id  SepalLengthCm  SepalWidthCm  PetalLengthCm  PetalWidthCm  \\\n",
      "0      1            5.1           3.5            1.4           0.2   \n",
      "1      2            4.9           3.0            1.4           0.2   \n",
      "2      3            4.7           3.2            1.3           0.2   \n",
      "3      4            4.6           3.1            1.5           0.2   \n",
      "4      5            5.0           3.6            1.4           0.2   \n",
      "..   ...            ...           ...            ...           ...   \n",
      "145  146            6.7           3.0            5.2           2.3   \n",
      "146  147            6.3           2.5            5.0           1.9   \n",
      "147  148            6.5           3.0            5.2           2.0   \n",
      "148  149            6.2           3.4            5.4           2.3   \n",
      "149  150            5.9           3.0            5.1           1.8   \n",
      "\n",
      "            Species  \n",
      "0       Iris-setosa  \n",
      "1       Iris-setosa  \n",
      "2       Iris-setosa  \n",
      "3       Iris-setosa  \n",
      "4       Iris-setosa  \n",
      "..              ...  \n",
      "145  Iris-virginica  \n",
      "146  Iris-virginica  \n",
      "147  Iris-virginica  \n",
      "148  Iris-virginica  \n",
      "149  Iris-virginica  \n",
      "\n",
      "[150 rows x 6 columns]\n",
      "     SepalLengthCm  SepalWidthCm  PetalLengthCm  PetalWidthCm         Species\n",
      "0              5.1           3.5            1.4           0.2     Iris-setosa\n",
      "1              4.9           3.0            1.4           0.2     Iris-setosa\n",
      "2              4.7           3.2            1.3           0.2     Iris-setosa\n",
      "3              4.6           3.1            1.5           0.2     Iris-setosa\n",
      "4              5.0           3.6            1.4           0.2     Iris-setosa\n",
      "..             ...           ...            ...           ...             ...\n",
      "142            6.7           3.0            5.2           2.3  Iris-virginica\n",
      "143            6.3           2.5            5.0           1.9  Iris-virginica\n",
      "144            6.5           3.0            5.2           2.0  Iris-virginica\n",
      "145            6.2           3.4            5.4           2.3  Iris-virginica\n",
      "146            5.9           3.0            5.1           1.8  Iris-virginica\n",
      "\n",
      "[147 rows x 5 columns]\n",
      "     SepalLengthCm  SepalWidthCm  PetalLengthCm  PetalWidthCm         Species\n",
      "0              5.1           3.5            1.4           0.2     Iris-setosa\n",
      "1              4.9           3.0            1.4           0.2     Iris-setosa\n",
      "2              4.7           3.2            1.3           0.2     Iris-setosa\n",
      "3              4.6           3.1            1.5           0.2     Iris-setosa\n",
      "4              5.0           3.6            1.4           0.2     Iris-setosa\n",
      "..             ...           ...            ...           ...             ...\n",
      "142            6.7           3.0            5.2           2.3  Iris-virginica\n",
      "143            6.3           2.5            5.0           1.9  Iris-virginica\n",
      "144            6.5           3.0            5.2           2.0  Iris-virginica\n",
      "145            6.2           3.4            5.4           2.3  Iris-virginica\n",
      "146            5.9           3.0            5.1           1.8  Iris-virginica\n",
      "\n",
      "[147 rows x 5 columns]\n",
      "     SepalLengthCm  SepalWidthCm  PetalLengthCm  PetalWidthCm         Species\n",
      "0              5.1           3.5            1.4           0.2     Iris-setosa\n",
      "1              4.9           3.0            1.4           0.2     Iris-setosa\n",
      "2              4.7           3.2            1.3           0.2     Iris-setosa\n",
      "3              4.6           3.1            1.5           0.2     Iris-setosa\n",
      "4              5.0           3.6            1.4           0.2     Iris-setosa\n",
      "..             ...           ...            ...           ...             ...\n",
      "141            6.7           3.0            5.2           2.3  Iris-virginica\n",
      "142            6.3           2.5            5.0           1.9  Iris-virginica\n",
      "143            6.5           3.0            5.2           2.0  Iris-virginica\n",
      "144            6.2           3.4            5.4           2.3  Iris-virginica\n",
      "145            5.9           3.0            5.1           1.8  Iris-virginica\n",
      "\n",
      "[146 rows x 5 columns]\n"
     ]
    }
   ],
   "source": [
    "df_iris = pd.read_csv(r'Iris.csv')\n",
    "print(df_iris)\n",
    "df_iris = df_iris.drop(columns=['Id'])\n",
    "df_iris = df_iris.drop_duplicates(subset=['SepalLengthCm', 'SepalWidthCm', 'PetalLengthCm', 'PetalWidthCm', 'Species'], ignore_index=True)\n",
    "print(df_iris)\n",
    "df_iris = df_iris.dropna()\n",
    "df_iris = df_iris.reset_index(drop=True)\n",
    "print(df_iris)\n",
    "z_score = st.zscore(df_iris.drop(columns=['Species']))\n",
    "\n",
    "filtered = (np.abs(z_score)< 3).all(axis=1)\n",
    "df_iris = df_iris[filtered].reset_index(drop=True)\n",
    "print(df_iris)"
   ]
  },
  {
   "cell_type": "markdown",
   "id": "1818dea5-bb63-4671-8d67-aeb6f99c886c",
   "metadata": {},
   "source": [
    "# Question 1\n",
    "\n",
    "### Use sklearn.cluster library"
   ]
  },
  {
   "cell_type": "markdown",
   "id": "ef344ffd-ab94-4044-92cd-0fe7389bb6ed",
   "metadata": {},
   "source": [
    "#### Put all attributes on the same scale"
   ]
  },
  {
   "cell_type": "code",
   "execution_count": 132,
   "id": "0e4c01ca-76df-41ec-816a-308dccb625c6",
   "metadata": {},
   "outputs": [],
   "source": [
    "iris_X = df_iris.drop(columns=['Species'])\n",
    "iris_Y = df_iris['Species']\n",
    "scaler = StandardScaler()\n",
    "scaler.fit(iris_X)\n",
    "iris_X = scaler.transform(iris_X)"
   ]
  },
  {
   "cell_type": "markdown",
   "id": "17c1b0f5-b119-498d-8b3d-bade3717154e",
   "metadata": {},
   "source": [
    "#### Split Tarin(80)/Test(20)"
   ]
  },
  {
   "cell_type": "code",
   "execution_count": 133,
   "id": "8f34b9eb-b4ff-43a0-bda7-ab0d16ed46b2",
   "metadata": {},
   "outputs": [],
   "source": [
    "iris_train_X, iris_test_X, iris_train_Y, iris_test_Y = train_test_split(iris_X, iris_Y, test_size=0.2, train_size=0.8, random_state=42)\n",
    "df_train_X = pd.DataFrame(iris_train_X, columns=df_iris.drop(columns=['Species']).columns)\n",
    "df_test_X = pd.DataFrame(iris_test_X, columns=df_iris.drop(columns=['Species']).columns)\n",
    "df_train_Y = iris_train_Y.reset_index(drop=True)\n",
    "df_test_Y = iris_test_Y.reset_index(drop=True)"
   ]
  },
  {
   "cell_type": "markdown",
   "id": "beaf928c-d535-4bef-b4cc-b9b2f2f49039",
   "metadata": {},
   "source": [
    "#### Use sklearn.cluster.Kmeans"
   ]
  },
  {
   "cell_type": "code",
   "execution_count": 5,
   "id": "53551008-fa68-46e7-a238-e9b3889ad9e2",
   "metadata": {},
   "outputs": [
    {
     "data": {
      "text/html": [
       "<div>\n",
       "<style scoped>\n",
       "    .dataframe tbody tr th:only-of-type {\n",
       "        vertical-align: middle;\n",
       "    }\n",
       "\n",
       "    .dataframe tbody tr th {\n",
       "        vertical-align: top;\n",
       "    }\n",
       "\n",
       "    .dataframe thead th {\n",
       "        text-align: right;\n",
       "    }\n",
       "</style>\n",
       "<table border=\"1\" class=\"dataframe\">\n",
       "  <thead>\n",
       "    <tr style=\"text-align: right;\">\n",
       "      <th></th>\n",
       "      <th>Cluster</th>\n",
       "    </tr>\n",
       "  </thead>\n",
       "  <tbody>\n",
       "    <tr>\n",
       "      <th>0</th>\n",
       "      <td>0</td>\n",
       "    </tr>\n",
       "    <tr>\n",
       "      <th>1</th>\n",
       "      <td>0</td>\n",
       "    </tr>\n",
       "    <tr>\n",
       "      <th>2</th>\n",
       "      <td>1</td>\n",
       "    </tr>\n",
       "    <tr>\n",
       "      <th>3</th>\n",
       "      <td>1</td>\n",
       "    </tr>\n",
       "    <tr>\n",
       "      <th>4</th>\n",
       "      <td>0</td>\n",
       "    </tr>\n",
       "  </tbody>\n",
       "</table>\n",
       "</div>"
      ],
      "text/plain": [
       "   Cluster\n",
       "0        0\n",
       "1        0\n",
       "2        1\n",
       "3        1\n",
       "4        0"
      ]
     },
     "execution_count": 5,
     "metadata": {},
     "output_type": "execute_result"
    }
   ],
   "source": [
    "kmeans = KMeans(n_clusters=2, random_state=0).fit(df_train_X)\n",
    "df_cluster = pd.DataFrame({'Cluster':kmeans.labels_})\n",
    "df_train_X.head()\n",
    "df_cluster.head()"
   ]
  },
  {
   "cell_type": "markdown",
   "id": "95b85027-d2ea-4e48-b9a6-7fd4ed8793b4",
   "metadata": {},
   "source": [
    "## Elbow method"
   ]
  },
  {
   "cell_type": "markdown",
   "id": "e2f4b051-07f9-4467-b7ab-3e21461d4764",
   "metadata": {},
   "source": [
    " Function for calculating distance square between dataframe and one center"
   ]
  },
  {
   "cell_type": "code",
   "execution_count": 9,
   "id": "ae71f41e-06a6-4964-af15-e4ec26c311f0",
   "metadata": {},
   "outputs": [],
   "source": [
    "def error_square(df, center):\n",
    "    df_sub = df-center\n",
    "    df_sq = df_sub.mul(df_sub)\n",
    "    return np.sum(df_sq.sum(axis=1))"
   ]
  },
  {
   "cell_type": "markdown",
   "id": "b2eb283b-2768-46bb-af02-e01fa6747de0",
   "metadata": {},
   "source": [
    "Function for calculating sum of distance square between dataframe and all centers"
   ]
  },
  {
   "cell_type": "code",
   "execution_count": 10,
   "id": "9a8027cf-ca76-438a-ac8e-eec871262590",
   "metadata": {},
   "outputs": [],
   "source": [
    "def ErrorSquareSum(df, df_cluster, centers):\n",
    "    uniques = np.unique(df_cluster)\n",
    "    result = 0\n",
    "    for cluster in range(len(uniques)):\n",
    "        indices = df_cluster[df_cluster.Cluster == uniques[cluster]].index\n",
    "        curr_df = df.loc[indices]\n",
    "        result += error_square(curr_df, centers[cluster])\n",
    "        \n",
    "    return result"
   ]
  },
  {
   "cell_type": "markdown",
   "id": "b7808380-b0ce-4c56-a3ff-dfa25c5f27aa",
   "metadata": {},
   "source": [
    "Function returns most frequent label/class in Series"
   ]
  },
  {
   "cell_type": "code",
   "execution_count": 11,
   "id": "b3e63e52-23f5-4ecd-8578-d5706ebc8fda",
   "metadata": {},
   "outputs": [],
   "source": [
    "def MostFrequentClass(targets):\n",
    "    elements, num = np.unique(targets, return_counts=True)\n",
    "    index = np.argmax(num)\n",
    "    return elements[index]"
   ]
  },
  {
   "cell_type": "markdown",
   "id": "b0a9838b-878e-4a16-963b-47cd3c6b5e79",
   "metadata": {},
   "source": [
    "Function returns the list of classes that matches to label number"
   ]
  },
  {
   "cell_type": "code",
   "execution_count": 12,
   "id": "0a9f3c73-fac8-4cf1-86b1-8388c56d2729",
   "metadata": {},
   "outputs": [],
   "source": [
    "def GetClusterLabel(df_cluster, df_train_Y):\n",
    "    result = []\n",
    "    uniques = np.unique(df_cluster)\n",
    "    for cluster in range(len(uniques)):\n",
    "        indices = df_cluster[df_cluster.Cluster == uniques[cluster]].index\n",
    "        result.append(MostFrequentClass(df_train_Y.loc[indices]))\n",
    "    return result"
   ]
  },
  {
   "cell_type": "markdown",
   "id": "62ab35a2-8479-4dd2-8ef4-c038bc48089f",
   "metadata": {},
   "source": [
    "#### Calculate Sum of Square Error for each k \n",
    "* range of k : from 2 to length of train data"
   ]
  },
  {
   "cell_type": "code",
   "execution_count": 134,
   "id": "e1e38f71-6e6c-4b85-ab8f-faac5708969b",
   "metadata": {},
   "outputs": [],
   "source": [
    "SSE = []\n",
    "num_cluster = []\n",
    "i = 1\n",
    "while i <= 10:\n",
    "    kmeans = KMeans(n_clusters=i, random_state=0).fit(df_train_X)\n",
    "    df_cluster = pd.DataFrame({'Cluster':kmeans.labels_})\n",
    "    SSE.append(ErrorSquareSum(df_train_X, df_cluster, kmeans.cluster_centers_))\n",
    "    num_cluster.append(i)\n",
    "    \n",
    "    i += 1"
   ]
  },
  {
   "cell_type": "markdown",
   "id": "c0da0b43-d92a-43d8-ae85-58d9b0968d44",
   "metadata": {},
   "source": [
    "#### Plot [k vs Sum of Suqare Error]"
   ]
  },
  {
   "cell_type": "code",
   "execution_count": 135,
   "id": "c956342b-7d7f-4824-b668-6172e86b6fd0",
   "metadata": {},
   "outputs": [
    {
     "data": {
      "image/png": "[encoded data removed]",
      "text/plain": [
       "<Figure size 432x288 with 1 Axes>"
      ]
     },
     "metadata": {
      "needs_background": "light"
     },
     "output_type": "display_data"
    }
   ],
   "source": [
    "plt.plot(num_cluster, SSE)\n",
    "plt.xlabel('number of clusters')\n",
    "plt.ylabel('sum of error square')\n",
    "\n",
    "plt.show()"
   ]
  },
  {
   "cell_type": "markdown",
   "id": "b2c5fcc6-c537-4456-aa3d-1b85e1713426",
   "metadata": {},
   "source": [
    "#### Check accuracies between k=2 and k=25"
   ]
  },
  {
   "cell_type": "code",
   "execution_count": 15,
   "id": "7b7f015d-f9af-4437-a7fe-095b9df97ce2",
   "metadata": {},
   "outputs": [
    {
     "name": "stdout",
     "output_type": "stream",
     "text": [
      "    Accuracy\n",
      "2   0.655172\n",
      "3   0.818966\n",
      "4   0.793103\n",
      "5   0.801724\n",
      "6   0.836207\n",
      "7   0.810345\n",
      "8   0.844828\n",
      "9   0.931034\n",
      "10  0.931034\n",
      "11  0.922414\n",
      "12  0.939655\n",
      "13  0.965517\n",
      "14  0.939655\n",
      "15  0.948276\n",
      "16  0.931034\n",
      "17  0.956897\n",
      "18  0.982759\n",
      "19  0.965517\n",
      "20  0.974138\n",
      "21  0.931034\n",
      "22  0.948276\n",
      "23  0.965517\n",
      "24  0.956897\n",
      "25  0.965517\n"
     ]
    }
   ],
   "source": [
    "accuracies = []\n",
    "clusters = []\n",
    "i = 2\n",
    "\n",
    "while i <= 25:\n",
    "    kmeans = KMeans(n_clusters=i, random_state=0).fit(df_train_X)\n",
    "    df_cluster = pd.DataFrame({'Cluster':kmeans.labels_})\n",
    "    labels = GetClusterLabel(df_cluster, df_train_Y)\n",
    "    predicted = pd.Series(list(map(lambda x : labels[x], kmeans.predict(df_train_X))))\n",
    "    compared = predicted.compare(df_train_Y)\n",
    "    accuracies.append(1.0-len(compared)/len(df_train_Y))\n",
    "    clusters.append(i)\n",
    "\n",
    "    i += 1\n",
    "\n",
    "df_accuracy = pd.DataFrame(data={'Accuracy':accuracies}, index=clusters)\n",
    "print(df_accuracy)"
   ]
  },
  {
   "cell_type": "markdown",
   "id": "7e2c3867-4a0e-428d-8a81-70d90ec8da3b",
   "metadata": {},
   "source": [
    "#### Pick the best k from above"
   ]
  },
  {
   "cell_type": "code",
   "execution_count": 16,
   "id": "b3b7506e-45da-44c7-9aee-f37ea06f35a4",
   "metadata": {},
   "outputs": [
    {
     "name": "stdout",
     "output_type": "stream",
     "text": [
      "18\n"
     ]
    }
   ],
   "source": [
    "best_k = df_accuracy.iloc[np.argmax(df_accuracy)].name\n",
    "print(best_k)"
   ]
  },
  {
   "cell_type": "markdown",
   "id": "8c028391-a3f9-492d-b59e-df542080d89e",
   "metadata": {},
   "source": [
    "#### Run k-means with best K and print accuracy"
   ]
  },
  {
   "cell_type": "code",
   "execution_count": 136,
   "id": "69b97b30-2038-4add-a696-7be9b7c0209b",
   "metadata": {},
   "outputs": [
    {
     "name": "stdout",
     "output_type": "stream",
     "text": [
      "Accuracy: 93.33333333333333 %\n"
     ]
    }
   ],
   "source": [
    "kmeans = KMeans(n_clusters=3, random_state=0).fit(df_train_X)\n",
    "df_cluster = pd.DataFrame({'Cluster':kmeans.labels_})\n",
    "labels = GetClusterLabel(df_cluster, df_train_Y)\n",
    "predicted = pd.Series(list(map(lambda x : labels[x], kmeans.predict(df_test_X))))\n",
    "compared = predicted.compare(df_test_Y)\n",
    "accuracy = 1.0-len(compared)/len(df_test_Y)\n",
    "print(\"Accuracy:\",accuracy*100.0, '%')"
   ]
  },
  {
   "cell_type": "code",
   "execution_count": 137,
   "id": "e471798e-6724-4b9b-b480-8e9014ad35c4",
   "metadata": {},
   "outputs": [
    {
     "data": {
      "text/plain": [
       "0.4452229046646433"
      ]
     },
     "execution_count": 137,
     "metadata": {},
     "output_type": "execute_result"
    }
   ],
   "source": [
    "silhouette_score(df_train_X, kmeans.predict(df_train_X))"
   ]
  },
  {
   "cell_type": "markdown",
   "id": "754d04d0-0c72-4466-8aa5-57beeceff30e",
   "metadata": {},
   "source": [
    "# Question 2\n",
    "\n",
    "## K-mean Algorithms from scratch"
   ]
  },
  {
   "cell_type": "markdown",
   "id": "288ef6a3-3cd6-4453-a1b6-cd5cb656ba0e",
   "metadata": {},
   "source": [
    "#### Squared Distance"
   ]
  },
  {
   "cell_type": "code",
   "execution_count": 138,
   "id": "3dd6968b-eed1-4fa5-89c2-d48d0e1024c6",
   "metadata": {},
   "outputs": [],
   "source": [
    "def DistanceSquare(df, cluster):\n",
    "    df_sub = df-cluster\n",
    "    df_sq = df_sub.mul(df_sub)\n",
    "    d = list(np.sum(df_sq, axis=1))\n",
    "    return d"
   ]
  },
  {
   "cell_type": "markdown",
   "id": "22beb9f1-91eb-4d70-b2c4-de8ea61e4e79",
   "metadata": {},
   "source": [
    "#### Implement K-mean++ "
   ]
  },
  {
   "cell_type": "code",
   "execution_count": 139,
   "id": "3c16f2d5-27bf-47cd-a7ca-b3ca008ba328",
   "metadata": {},
   "outputs": [],
   "source": [
    "def SelectInitialClusters(df, k):\n",
    "    clusters = []\n",
    "    initial_cluster = df.sample(random_state = 42)\n",
    "    curr_index = initial_cluster.index[0]\n",
    "    cluster = list(df.loc[curr_index])\n",
    "    df = df.drop(curr_index)\n",
    "    clusters.append(cluster)\n",
    "    \n",
    "    for i in range(k-1):\n",
    "        d = DistanceSquare(df, cluster)\n",
    "        curr_index = df.iloc[np.argmax(d)].name\n",
    "        cluster = list(df.loc[curr_index])\n",
    "        df = df.drop(curr_index)\n",
    "        clusters.append(cluster)\n",
    "\n",
    "    return clusters"
   ]
  },
  {
   "cell_type": "markdown",
   "id": "bf2d4d8e-3560-46a1-bdd8-33d1c60b782d",
   "metadata": {},
   "source": [
    "#### Class for cluster information. It will be used in return value of K_means function"
   ]
  },
  {
   "cell_type": "code",
   "execution_count": 140,
   "id": "abf9f95d-dbf8-4128-81df-109f49d76645",
   "metadata": {},
   "outputs": [],
   "source": [
    "# clusters : all observations assigned to a cluster\n",
    "# centroids : Coordinates of cluster centers\n",
    "# SumSquareDistances : Sum of squared distances of samples to their closest cluster center\n",
    "# labels : Class/Lables of each data point\n",
    "# iterations : Number of iterations runs\n",
    "class ClusterInfo:\n",
    "    def __init__(self, errorsum_, iter_, centers_,labels_, clusters_):\n",
    "        self.SumSquareDistances = errorsum_\n",
    "        self.iterations = iter_\n",
    "        self.centroids = centers_\n",
    "        self.labels = labels_\n",
    "        self.clusters = clusters_\n",
    "    def predict_label(self, data):\n",
    "        dists = pd.DataFrame(index = data.index)\n",
    "        for c in range(len(self.centroids)):\n",
    "            dists[c] = DistanceSquare(data, self.centroids[c])\n",
    "        return pd.DataFrame({'Cluster':dists.idxmin(axis=1)})\n",
    "    def predict_class(self, data, train_Y):\n",
    "        labels = self.predict_label(data)\n",
    "        classes = GetClusterLabel(self.labels, train_Y)\n",
    "        return pd.DataFrame({'Cluster': list(map(lambda x : classes[x], labels['Cluster'].values.tolist()))}, index = data.index)"
   ]
  },
  {
   "cell_type": "markdown",
   "id": "dcc1cb96-a2ac-4dac-9644-c3350d4359c5",
   "metadata": {},
   "source": [
    "#### K-means Algorithm from scratch"
   ]
  },
  {
   "cell_type": "code",
   "execution_count": 150,
   "id": "b82e8b35-310b-4b73-ac85-60fc8d4df495",
   "metadata": {},
   "outputs": [],
   "source": [
    "def K_means(df, k, max_iter, initial_seeds):\n",
    "        \n",
    "    centers = initial_seeds\n",
    "    cluster = pd.DataFrame({'Cluster':0}, index=df.index)\n",
    "    curr_cluster = pd.DataFrame({'Cluster':0}, index=df.index)\n",
    "\n",
    "    i = 0\n",
    "    while i < max_iter:\n",
    "        \n",
    "        #Calculate distances for each centers\n",
    "        distances = pd.DataFrame(index = df.index)\n",
    "        for c in range(len(centers)):\n",
    "            distances = pd.concat([distances, pd.DataFrame({c:DistanceSquare(df,centers[c])})], axis=1)\n",
    "                \n",
    "        #Pick clusters that have min distances and assign cluster \n",
    "        curr_cluster['Cluster'] = distances.idxmin(axis=1).values\n",
    "\n",
    "        #check if there is no change on cluster assign\n",
    "        if cluster['Cluster'].equals(curr_cluster['Cluster']):\n",
    "            break\n",
    "            \n",
    "        cluster['Cluster'] = curr_cluster.values\n",
    "\n",
    "        #Update new centers\n",
    "        new_centers = []\n",
    "        for j in range(k):\n",
    "            indices = cluster[cluster.Cluster==j].index\n",
    "            new_centers.append(df.loc[indices].mean(axis=0).values.tolist())\n",
    "        \n",
    "        centers = new_centers\n",
    "        i += 1 \n",
    " \n",
    "    #indices that each cluster has\n",
    "    cluster_indices = pd.Series(dtype=object, index=range(k))\n",
    "    for j in range(k):\n",
    "        cluster_indices[j] = cluster[cluster.Cluster==j].index.values.tolist()\n",
    "        \n",
    "    return ClusterInfo(ErrorSquareSum(df, cluster, centers), i, centers, cluster, df)"
   ]
  },
  {
   "cell_type": "markdown",
   "id": "c247e2b2-2c3c-4e34-8373-df93af57f620",
   "metadata": {},
   "source": [
    "### Data Exploration\n",
    "\n",
    " * Normalize : ai'= (ai - min(a))/(max(a)-min(a) "
   ]
  },
  {
   "cell_type": "code",
   "execution_count": 78,
   "id": "02228a17-c0b6-44db-b488-323bad1b460a",
   "metadata": {},
   "outputs": [],
   "source": [
    "def Normalize(data, target_name):\n",
    "    result = pd.DataFrame({})\n",
    "    for col in data.drop(columns=target_name).columns:\n",
    "        max_value = data[col].max()\n",
    "        min_value = data[col].min()\n",
    "        normalized = (data[col]-min_value)/(max_value-min_value)\n",
    "        result[col] = normalized\n",
    "    result[target_name] = data[target_name]\n",
    "    return result"
   ]
  },
  {
   "cell_type": "code",
   "execution_count": 79,
   "id": "a29c5794-3f7c-4f8b-b508-420b6d1f3d6f",
   "metadata": {},
   "outputs": [
    {
     "data": {
      "text/html": [
       "<div>\n",
       "<style scoped>\n",
       "    .dataframe tbody tr th:only-of-type {\n",
       "        vertical-align: middle;\n",
       "    }\n",
       "\n",
       "    .dataframe tbody tr th {\n",
       "        vertical-align: top;\n",
       "    }\n",
       "\n",
       "    .dataframe thead th {\n",
       "        text-align: right;\n",
       "    }\n",
       "</style>\n",
       "<table border=\"1\" class=\"dataframe\">\n",
       "  <thead>\n",
       "    <tr style=\"text-align: right;\">\n",
       "      <th></th>\n",
       "      <th>SepalLengthCm</th>\n",
       "      <th>SepalWidthCm</th>\n",
       "      <th>PetalLengthCm</th>\n",
       "      <th>PetalWidthCm</th>\n",
       "      <th>Species</th>\n",
       "    </tr>\n",
       "  </thead>\n",
       "  <tbody>\n",
       "    <tr>\n",
       "      <th>0</th>\n",
       "      <td>0.222222</td>\n",
       "      <td>0.681818</td>\n",
       "      <td>0.067797</td>\n",
       "      <td>0.041667</td>\n",
       "      <td>Iris-setosa</td>\n",
       "    </tr>\n",
       "    <tr>\n",
       "      <th>1</th>\n",
       "      <td>0.166667</td>\n",
       "      <td>0.454545</td>\n",
       "      <td>0.067797</td>\n",
       "      <td>0.041667</td>\n",
       "      <td>Iris-setosa</td>\n",
       "    </tr>\n",
       "    <tr>\n",
       "      <th>2</th>\n",
       "      <td>0.111111</td>\n",
       "      <td>0.545455</td>\n",
       "      <td>0.050847</td>\n",
       "      <td>0.041667</td>\n",
       "      <td>Iris-setosa</td>\n",
       "    </tr>\n",
       "    <tr>\n",
       "      <th>3</th>\n",
       "      <td>0.083333</td>\n",
       "      <td>0.500000</td>\n",
       "      <td>0.084746</td>\n",
       "      <td>0.041667</td>\n",
       "      <td>Iris-setosa</td>\n",
       "    </tr>\n",
       "    <tr>\n",
       "      <th>4</th>\n",
       "      <td>0.194444</td>\n",
       "      <td>0.727273</td>\n",
       "      <td>0.067797</td>\n",
       "      <td>0.041667</td>\n",
       "      <td>Iris-setosa</td>\n",
       "    </tr>\n",
       "  </tbody>\n",
       "</table>\n",
       "</div>"
      ],
      "text/plain": [
       "   SepalLengthCm  SepalWidthCm  PetalLengthCm  PetalWidthCm      Species\n",
       "0       0.222222      0.681818       0.067797      0.041667  Iris-setosa\n",
       "1       0.166667      0.454545       0.067797      0.041667  Iris-setosa\n",
       "2       0.111111      0.545455       0.050847      0.041667  Iris-setosa\n",
       "3       0.083333      0.500000       0.084746      0.041667  Iris-setosa\n",
       "4       0.194444      0.727273       0.067797      0.041667  Iris-setosa"
      ]
     },
     "execution_count": 79,
     "metadata": {},
     "output_type": "execute_result"
    }
   ],
   "source": [
    "df_iris = Normalize(df_iris,'Species')\n",
    "df_iris.head()"
   ]
  },
  {
   "cell_type": "markdown",
   "id": "153eacd9-489a-45c3-b75b-b479bf0f5488",
   "metadata": {},
   "source": [
    "* Split data into training/test (80/20)"
   ]
  },
  {
   "cell_type": "code",
   "execution_count": 80,
   "id": "55807290-9c2a-4491-800b-5c979e07ccf0",
   "metadata": {},
   "outputs": [],
   "source": [
    "iris_train_X, iris_test_X, iris_train_Y, iris_test_Y = train_test_split(iris_X, iris_Y, test_size=0.2, train_size=0.8, random_state=42)\n",
    "train_X = pd.DataFrame(iris_train_X, columns=df_iris.drop(columns=['Species']).columns)\n",
    "test_X = pd.DataFrame(iris_test_X, columns=df_iris.drop(columns=['Species']).columns)\n",
    "train_Y = iris_train_Y.reset_index(drop=True)\n",
    "test_Y = iris_test_Y.reset_index(drop=True)"
   ]
  },
  {
   "cell_type": "code",
   "execution_count": 81,
   "id": "ee9200aa-b182-4878-b7a1-7372693ce747",
   "metadata": {},
   "outputs": [
    {
     "name": "stdout",
     "output_type": "stream",
     "text": [
      "116\n"
     ]
    }
   ],
   "source": [
    "print(len(train_X))"
   ]
  },
  {
   "cell_type": "markdown",
   "id": "e4138eb1-db4a-47fe-90c3-ec6d8d910112",
   "metadata": {},
   "source": [
    "#### Caculate Sum Squarer Error"
   ]
  },
  {
   "cell_type": "code",
   "execution_count": 151,
   "id": "c857dcdb-463d-4101-a17f-17e61ab5b049",
   "metadata": {},
   "outputs": [],
   "source": [
    "SSE = []\n",
    "num_cluster = []\n",
    "i = 2\n",
    "while i <= 10:\n",
    "    initial = SelectInitialClusters(train_X,i)\n",
    "    kmeans = K_means(train_X, i, 100, initial)\n",
    "    SSE.append(kmeans.SumSquareDistances)\n",
    "    num_cluster.append(i)\n",
    "    \n",
    "    i += 1"
   ]
  },
  {
   "cell_type": "markdown",
   "id": "0bc621fa-d53a-4c5e-9fb5-f2b8a1517052",
   "metadata": {},
   "source": [
    "#### Plot [k vs Sum Square Error]"
   ]
  },
  {
   "cell_type": "code",
   "execution_count": 152,
   "id": "97dad364-afdf-4a45-9c65-0d823d26df00",
   "metadata": {},
   "outputs": [
    {
     "data": {
      "image/png": "[encoded data removed]",
      "text/plain": [
       "<Figure size 432x288 with 1 Axes>"
      ]
     },
     "metadata": {
      "needs_background": "light"
     },
     "output_type": "display_data"
    }
   ],
   "source": [
    "plt.plot(num_cluster, SSE)\n",
    "plt.xlabel('number of clusters')\n",
    "plt.ylabel('sum of error square')\n",
    "\n",
    "plt.show()"
   ]
  },
  {
   "cell_type": "markdown",
   "id": "a015edba-e3e6-47b0-8464-eb9c75cfdb8a",
   "metadata": {},
   "source": [
    "#### Accuracies according to K and the number of iterations"
   ]
  },
  {
   "cell_type": "code",
   "execution_count": 124,
   "id": "301b7fd3-5acc-49df-983d-67ffab3f2c4e",
   "metadata": {},
   "outputs": [
    {
     "name": "stdout",
     "output_type": "stream",
     "text": [
      "          2         5         8         12        14        16\n",
      "2   0.655172  0.655172  0.655172  0.655172  0.655172  0.655172\n",
      "3   0.801724  0.810345  0.810345  0.810345  0.810345  0.810345\n",
      "4   0.801724  0.793103  0.793103  0.793103  0.793103  0.793103\n",
      "5   0.801724  0.836207  0.818966  0.793103  0.810345  0.810345\n",
      "6   0.810345  0.827586  0.801724  0.810345  0.810345  0.810345\n",
      "7   0.827586  0.818966  0.801724  0.801724  0.801724  0.801724\n",
      "8   0.801724  0.810345  0.810345  0.810345  0.810345  0.810345\n",
      "9   0.793103  0.810345  0.818966  0.818966  0.818966  0.818966\n",
      "10  0.793103  0.818966  0.827586  0.827586  0.827586  0.827586\n",
      "11  0.810345  0.818966  0.818966  0.818966  0.818966  0.818966\n",
      "12  0.810345  0.818966  0.818966  0.818966  0.818966  0.818966\n",
      "13  0.818966  0.810345  0.810345  0.810345  0.810345  0.810345\n",
      "14  0.818966  0.810345  0.810345  0.810345  0.810345  0.810345\n",
      "15   0.87069  0.922414  0.905172  0.905172  0.905172  0.905172\n",
      "16   0.87069  0.922414  0.905172  0.905172  0.905172  0.905172\n",
      "17  0.818966  0.896552  0.913793  0.913793  0.913793  0.913793\n",
      "18  0.818966  0.896552  0.913793  0.913793  0.913793  0.913793\n",
      "19  0.827586   0.87931  0.896552  0.913793  0.922414  0.922414\n",
      "20  0.827586   0.87931  0.896552  0.913793  0.922414  0.922414\n",
      "Best k = 15\n",
      "Best iterations = 5\n"
     ]
    }
   ],
   "source": [
    "i = 2\n",
    "j_range = [2,5,8,12,14,16]\n",
    "df_accuracy = pd.DataFrame(columns = j_range, index=clusters)\n",
    "\n",
    "while i <= 20:\n",
    "    initial = SelectInitialClusters(train_X, i)\n",
    "    curr_accuracies = []\n",
    "    for j in j_range:\n",
    "        kmeans = K_means(train_X, i, j, initial)\n",
    "        predicted = kmeans.predict_class(train_X, train_Y)\n",
    "        compared = predicted['Cluster'].compare(train_Y)\n",
    "        curr_accuracies.append(1.0-len(compared)/len(train_Y))\n",
    "    \n",
    "    df_accuracy.loc[i] = curr_accuracies\n",
    "    i += 1\n",
    "\n",
    "print(df_accuracy)\n",
    "max_val = df_accuracy.stack().index[np.argmax(df_accuracy.values)]\n",
    "best_k = max_val[0]\n",
    "best_iterations = max_val[1]\n",
    "print('Best k =', best_k)\n",
    "print('Best iterations =', best_iterations)"
   ]
  },
  {
   "cell_type": "markdown",
   "id": "793ccb27-8459-4252-a765-fa43b91ba33b",
   "metadata": {},
   "source": [
    "#### Evaluate with best k value and best number of iterations"
   ]
  },
  {
   "cell_type": "code",
   "execution_count": 148,
   "id": "48de8b4c-a7f8-4709-b939-7a611c1df5c8",
   "metadata": {},
   "outputs": [],
   "source": [
    "initial_centers = SelectInitialClusters(train_X, best_k)\n",
    "km = K_means(train_X, 5, 100, initial_centers)"
   ]
  },
  {
   "cell_type": "code",
   "execution_count": 149,
   "id": "b836a79b-cfc9-4fc8-8841-5e5846b3bee1",
   "metadata": {},
   "outputs": [
    {
     "name": "stdout",
     "output_type": "stream",
     "text": [
      "<Labels>\n",
      "      Cluster\n",
      "0          1\n",
      "1          1\n",
      "2          4\n",
      "3          2\n",
      "4          1\n",
      "..       ...\n",
      "111        4\n",
      "112        2\n",
      "113        1\n",
      "114        0\n",
      "115        2\n",
      "\n",
      "[116 rows x 1 columns]\n",
      "<SquareDistance Sum> : 74.47319878594199\n",
      "<Total Iterations> : 16\n",
      "<CLASSES>\n",
      "            Cluster\n",
      "0       Iris-setosa\n",
      "1    Iris-virginica\n",
      "2       Iris-setosa\n",
      "3       Iris-setosa\n",
      "4       Iris-setosa\n",
      "5    Iris-virginica\n",
      "6       Iris-setosa\n",
      "7    Iris-virginica\n",
      "8   Iris-versicolor\n",
      "9       Iris-setosa\n",
      "10      Iris-setosa\n",
      "11   Iris-virginica\n",
      "12   Iris-virginica\n",
      "13  Iris-versicolor\n",
      "14   Iris-virginica\n",
      "15      Iris-setosa\n",
      "16   Iris-virginica\n",
      "17   Iris-virginica\n",
      "18      Iris-setosa\n",
      "19   Iris-virginica\n",
      "20  Iris-versicolor\n",
      "21   Iris-virginica\n",
      "22      Iris-setosa\n",
      "23   Iris-virginica\n",
      "24      Iris-setosa\n",
      "25  Iris-versicolor\n",
      "26  Iris-versicolor\n",
      "27   Iris-virginica\n",
      "28   Iris-virginica\n",
      "29      Iris-setosa\n"
     ]
    }
   ],
   "source": [
    "print('<Labels>\\n',km.labels)\n",
    "print('<SquareDistance Sum> :',km.SumSquareDistances)\n",
    "print('<Total Iterations> :',km.iterations)\n",
    "#print('Centers :',km.centroids)\n",
    "\n",
    "classes = km.predict_class(test_X, train_Y)\n",
    "print('<CLASSES>')\n",
    "print(classes)"
   ]
  },
  {
   "cell_type": "markdown",
   "id": "c8cc2989-de6b-4120-883c-4b88c2bee169",
   "metadata": {},
   "source": [
    "#### Accuracy"
   ]
  },
  {
   "cell_type": "code",
   "execution_count": 127,
   "id": "70dcf58b-ff29-42b0-9ead-f6143a8f485e",
   "metadata": {},
   "outputs": [
    {
     "name": "stdout",
     "output_type": "stream",
     "text": [
      "0.9666666666666667\n"
     ]
    }
   ],
   "source": [
    "compared = classes['Cluster'].compare(test_Y)\n",
    "accuracy = 1.0-len(compared)/len(test_Y)\n",
    "print(accuracy)"
   ]
  },
  {
   "cell_type": "markdown",
   "id": "6746d35e-55c3-4202-b46d-d5b2b67af4f0",
   "metadata": {},
   "source": [
    "#### Silhouette Coefficient to measure the quality of clusters"
   ]
  },
  {
   "cell_type": "code",
   "execution_count": 128,
   "id": "cde6c889-d4d4-49f5-a221-dd2c147ebfb9",
   "metadata": {},
   "outputs": [],
   "source": [
    "def SilhouetteCoefficient(test_X, test_predicted):\n",
    "    results = pd.DataFrame({'Silhouette': 0.0},index=test_X.index)\n",
    "    clusters = np.unique(test_predicted)\n",
    "    clusters.sort()\n",
    "    center_list = []\n",
    "    #calculate centers\n",
    "    for c in clusters:\n",
    "        indices = test_predicted[test_predicted.Cluster==c].index\n",
    "        center_list.append(test_X.loc[indices].mean(axis=0).values.tolist())\n",
    "    \n",
    "    centers = pd.DataFrame(center_list, index = clusters)\n",
    "    \n",
    "    for c in range(len(clusters)):\n",
    "        indices = test_predicted[test_predicted.Cluster == clusters[c]].index\n",
    "        curr_df = test_X.loc[indices]\n",
    "\n",
    "        #find nearest cluster\n",
    "        curr_cluster = clusters[c]\n",
    "        d_other_clusters = pd.Series(DistanceSquare(centers.drop(curr_cluster), centers.loc[curr_cluster].values), index=centers.drop(curr_cluster).index)\n",
    "        next_cluster = d_other_clusters.idxmin()\n",
    "        next_indices = test_predicted[test_predicted.Cluster == next_cluster].index\n",
    "        next_df = test_X.loc[next_indices]\n",
    "        \n",
    "        for index in indices:\n",
    "            if len(curr_df) == 1:\n",
    "                a = 0\n",
    "            else:\n",
    "                #mean distance with all other points in the same class (a)\n",
    "                a = np.mean(DistanceSquare(curr_df.drop(index), curr_df.loc[index].values))\n",
    "            \n",
    "            #mean distance with all other points in the next nearest cluster\n",
    "            b = np.mean(DistanceSquare(next_df, curr_df.loc[index].values))\n",
    "            results.loc[index] = [(b-a)/np.max([b,a])]\n",
    "            \n",
    "    return results"
   ]
  },
  {
   "cell_type": "code",
   "execution_count": 158,
   "id": "e1f897fe-8271-4fbe-a3fa-eeececd686c8",
   "metadata": {},
   "outputs": [
    {
     "name": "stdout",
     "output_type": "stream",
     "text": [
      "0.476922190872871\n"
     ]
    }
   ],
   "source": [
    "labels = km.predict_label(test_X)\n",
    "s = SilhouetteCoefficient(test_X, labels)\n",
    "print(s['Silhouette'].mean())"
   ]
  },
  {
   "cell_type": "code",
   "execution_count": null,
   "id": "068a8d7d-1b90-4fdd-b6b8-0babb53355f0",
   "metadata": {},
   "outputs": [],
   "source": []
  }
 ],
 "metadata": {
  "kernelspec": {
   "display_name": "Python 3 (ipykernel)",
   "language": "python",
   "name": "python3"
  },
  "language_info": {
   "codemirror_mode": {
    "name": "ipython",
    "version": 3
   },
   "file_extension": ".py",
   "mimetype": "text/x-python",
   "name": "python",
   "nbconvert_exporter": "python",
   "pygments_lexer": "ipython3",
   "version": "3.7.4"
  }
 },
 "nbformat": 4,
 "nbformat_minor": 5
}
